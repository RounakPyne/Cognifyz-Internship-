{
 "cells": [
  {
   "cell_type": "code",
   "execution_count": 1,
   "id": "086f19e4",
   "metadata": {},
   "outputs": [],
   "source": [
    "#Importing Necessary Libararies \n",
    "\n",
    "import numpy as np\n",
    "import pandas as pd\n",
    "import matplotlib.pyplot as plt\n",
    "import seaborn as sns \n",
    "import plotly.express as px\n",
    "\n",
    "import warnings\n",
    "warnings.filterwarnings(\"ignore\")"
   ]
  },
  {
   "cell_type": "code",
   "execution_count": 2,
   "id": "5ec539f9",
   "metadata": {
    "scrolled": false
   },
   "outputs": [
    {
     "data": {
      "text/html": [
       "<div>\n",
       "<style scoped>\n",
       "    .dataframe tbody tr th:only-of-type {\n",
       "        vertical-align: middle;\n",
       "    }\n",
       "\n",
       "    .dataframe tbody tr th {\n",
       "        vertical-align: top;\n",
       "    }\n",
       "\n",
       "    .dataframe thead th {\n",
       "        text-align: right;\n",
       "    }\n",
       "</style>\n",
       "<table border=\"1\" class=\"dataframe\">\n",
       "  <thead>\n",
       "    <tr style=\"text-align: right;\">\n",
       "      <th></th>\n",
       "      <th>Restaurant ID</th>\n",
       "      <th>Restaurant Name</th>\n",
       "      <th>Country Code</th>\n",
       "      <th>City</th>\n",
       "      <th>Address</th>\n",
       "      <th>Locality</th>\n",
       "      <th>Locality Verbose</th>\n",
       "      <th>Longitude</th>\n",
       "      <th>Latitude</th>\n",
       "      <th>Cuisines</th>\n",
       "      <th>...</th>\n",
       "      <th>Currency</th>\n",
       "      <th>Has Table booking</th>\n",
       "      <th>Has Online delivery</th>\n",
       "      <th>Is delivering now</th>\n",
       "      <th>Switch to order menu</th>\n",
       "      <th>Price range</th>\n",
       "      <th>Aggregate rating</th>\n",
       "      <th>Rating color</th>\n",
       "      <th>Rating text</th>\n",
       "      <th>Votes</th>\n",
       "    </tr>\n",
       "  </thead>\n",
       "  <tbody>\n",
       "    <tr>\n",
       "      <th>0</th>\n",
       "      <td>6317637</td>\n",
       "      <td>Le Petit Souffle</td>\n",
       "      <td>162</td>\n",
       "      <td>Makati City</td>\n",
       "      <td>Third Floor, Century City Mall, Kalayaan Avenu...</td>\n",
       "      <td>Century City Mall, Poblacion, Makati City</td>\n",
       "      <td>Century City Mall, Poblacion, Makati City, Mak...</td>\n",
       "      <td>121.027535</td>\n",
       "      <td>14.565443</td>\n",
       "      <td>French, Japanese, Desserts</td>\n",
       "      <td>...</td>\n",
       "      <td>Botswana Pula(P)</td>\n",
       "      <td>Yes</td>\n",
       "      <td>No</td>\n",
       "      <td>No</td>\n",
       "      <td>No</td>\n",
       "      <td>3</td>\n",
       "      <td>4.8</td>\n",
       "      <td>Dark Green</td>\n",
       "      <td>Excellent</td>\n",
       "      <td>314</td>\n",
       "    </tr>\n",
       "    <tr>\n",
       "      <th>1</th>\n",
       "      <td>6304287</td>\n",
       "      <td>Izakaya Kikufuji</td>\n",
       "      <td>162</td>\n",
       "      <td>Makati City</td>\n",
       "      <td>Little Tokyo, 2277 Chino Roces Avenue, Legaspi...</td>\n",
       "      <td>Little Tokyo, Legaspi Village, Makati City</td>\n",
       "      <td>Little Tokyo, Legaspi Village, Makati City, Ma...</td>\n",
       "      <td>121.014101</td>\n",
       "      <td>14.553708</td>\n",
       "      <td>Japanese</td>\n",
       "      <td>...</td>\n",
       "      <td>Botswana Pula(P)</td>\n",
       "      <td>Yes</td>\n",
       "      <td>No</td>\n",
       "      <td>No</td>\n",
       "      <td>No</td>\n",
       "      <td>3</td>\n",
       "      <td>4.5</td>\n",
       "      <td>Dark Green</td>\n",
       "      <td>Excellent</td>\n",
       "      <td>591</td>\n",
       "    </tr>\n",
       "    <tr>\n",
       "      <th>2</th>\n",
       "      <td>6300002</td>\n",
       "      <td>Heat - Edsa Shangri-La</td>\n",
       "      <td>162</td>\n",
       "      <td>Mandaluyong City</td>\n",
       "      <td>Edsa Shangri-La, 1 Garden Way, Ortigas, Mandal...</td>\n",
       "      <td>Edsa Shangri-La, Ortigas, Mandaluyong City</td>\n",
       "      <td>Edsa Shangri-La, Ortigas, Mandaluyong City, Ma...</td>\n",
       "      <td>121.056831</td>\n",
       "      <td>14.581404</td>\n",
       "      <td>Seafood, Asian, Filipino, Indian</td>\n",
       "      <td>...</td>\n",
       "      <td>Botswana Pula(P)</td>\n",
       "      <td>Yes</td>\n",
       "      <td>No</td>\n",
       "      <td>No</td>\n",
       "      <td>No</td>\n",
       "      <td>4</td>\n",
       "      <td>4.4</td>\n",
       "      <td>Green</td>\n",
       "      <td>Very Good</td>\n",
       "      <td>270</td>\n",
       "    </tr>\n",
       "    <tr>\n",
       "      <th>3</th>\n",
       "      <td>6318506</td>\n",
       "      <td>Ooma</td>\n",
       "      <td>162</td>\n",
       "      <td>Mandaluyong City</td>\n",
       "      <td>Third Floor, Mega Fashion Hall, SM Megamall, O...</td>\n",
       "      <td>SM Megamall, Ortigas, Mandaluyong City</td>\n",
       "      <td>SM Megamall, Ortigas, Mandaluyong City, Mandal...</td>\n",
       "      <td>121.056475</td>\n",
       "      <td>14.585318</td>\n",
       "      <td>Japanese, Sushi</td>\n",
       "      <td>...</td>\n",
       "      <td>Botswana Pula(P)</td>\n",
       "      <td>No</td>\n",
       "      <td>No</td>\n",
       "      <td>No</td>\n",
       "      <td>No</td>\n",
       "      <td>4</td>\n",
       "      <td>4.9</td>\n",
       "      <td>Dark Green</td>\n",
       "      <td>Excellent</td>\n",
       "      <td>365</td>\n",
       "    </tr>\n",
       "    <tr>\n",
       "      <th>4</th>\n",
       "      <td>6314302</td>\n",
       "      <td>Sambo Kojin</td>\n",
       "      <td>162</td>\n",
       "      <td>Mandaluyong City</td>\n",
       "      <td>Third Floor, Mega Atrium, SM Megamall, Ortigas...</td>\n",
       "      <td>SM Megamall, Ortigas, Mandaluyong City</td>\n",
       "      <td>SM Megamall, Ortigas, Mandaluyong City, Mandal...</td>\n",
       "      <td>121.057508</td>\n",
       "      <td>14.584450</td>\n",
       "      <td>Japanese, Korean</td>\n",
       "      <td>...</td>\n",
       "      <td>Botswana Pula(P)</td>\n",
       "      <td>Yes</td>\n",
       "      <td>No</td>\n",
       "      <td>No</td>\n",
       "      <td>No</td>\n",
       "      <td>4</td>\n",
       "      <td>4.8</td>\n",
       "      <td>Dark Green</td>\n",
       "      <td>Excellent</td>\n",
       "      <td>229</td>\n",
       "    </tr>\n",
       "    <tr>\n",
       "      <th>5</th>\n",
       "      <td>18189371</td>\n",
       "      <td>Din Tai Fung</td>\n",
       "      <td>162</td>\n",
       "      <td>Mandaluyong City</td>\n",
       "      <td>Ground Floor, Mega Fashion Hall, SM Megamall, ...</td>\n",
       "      <td>SM Megamall, Ortigas, Mandaluyong City</td>\n",
       "      <td>SM Megamall, Ortigas, Mandaluyong City, Mandal...</td>\n",
       "      <td>121.056314</td>\n",
       "      <td>14.583764</td>\n",
       "      <td>Chinese</td>\n",
       "      <td>...</td>\n",
       "      <td>Botswana Pula(P)</td>\n",
       "      <td>No</td>\n",
       "      <td>No</td>\n",
       "      <td>No</td>\n",
       "      <td>No</td>\n",
       "      <td>3</td>\n",
       "      <td>4.4</td>\n",
       "      <td>Green</td>\n",
       "      <td>Very Good</td>\n",
       "      <td>336</td>\n",
       "    </tr>\n",
       "  </tbody>\n",
       "</table>\n",
       "<p>6 rows × 21 columns</p>\n",
       "</div>"
      ],
      "text/plain": [
       "   Restaurant ID         Restaurant Name  Country Code              City  \\\n",
       "0        6317637        Le Petit Souffle           162       Makati City   \n",
       "1        6304287        Izakaya Kikufuji           162       Makati City   \n",
       "2        6300002  Heat - Edsa Shangri-La           162  Mandaluyong City   \n",
       "3        6318506                    Ooma           162  Mandaluyong City   \n",
       "4        6314302             Sambo Kojin           162  Mandaluyong City   \n",
       "5       18189371            Din Tai Fung           162  Mandaluyong City   \n",
       "\n",
       "                                             Address  \\\n",
       "0  Third Floor, Century City Mall, Kalayaan Avenu...   \n",
       "1  Little Tokyo, 2277 Chino Roces Avenue, Legaspi...   \n",
       "2  Edsa Shangri-La, 1 Garden Way, Ortigas, Mandal...   \n",
       "3  Third Floor, Mega Fashion Hall, SM Megamall, O...   \n",
       "4  Third Floor, Mega Atrium, SM Megamall, Ortigas...   \n",
       "5  Ground Floor, Mega Fashion Hall, SM Megamall, ...   \n",
       "\n",
       "                                     Locality  \\\n",
       "0   Century City Mall, Poblacion, Makati City   \n",
       "1  Little Tokyo, Legaspi Village, Makati City   \n",
       "2  Edsa Shangri-La, Ortigas, Mandaluyong City   \n",
       "3      SM Megamall, Ortigas, Mandaluyong City   \n",
       "4      SM Megamall, Ortigas, Mandaluyong City   \n",
       "5      SM Megamall, Ortigas, Mandaluyong City   \n",
       "\n",
       "                                    Locality Verbose   Longitude   Latitude  \\\n",
       "0  Century City Mall, Poblacion, Makati City, Mak...  121.027535  14.565443   \n",
       "1  Little Tokyo, Legaspi Village, Makati City, Ma...  121.014101  14.553708   \n",
       "2  Edsa Shangri-La, Ortigas, Mandaluyong City, Ma...  121.056831  14.581404   \n",
       "3  SM Megamall, Ortigas, Mandaluyong City, Mandal...  121.056475  14.585318   \n",
       "4  SM Megamall, Ortigas, Mandaluyong City, Mandal...  121.057508  14.584450   \n",
       "5  SM Megamall, Ortigas, Mandaluyong City, Mandal...  121.056314  14.583764   \n",
       "\n",
       "                           Cuisines  ...          Currency Has Table booking  \\\n",
       "0        French, Japanese, Desserts  ...  Botswana Pula(P)               Yes   \n",
       "1                          Japanese  ...  Botswana Pula(P)               Yes   \n",
       "2  Seafood, Asian, Filipino, Indian  ...  Botswana Pula(P)               Yes   \n",
       "3                   Japanese, Sushi  ...  Botswana Pula(P)                No   \n",
       "4                  Japanese, Korean  ...  Botswana Pula(P)               Yes   \n",
       "5                           Chinese  ...  Botswana Pula(P)                No   \n",
       "\n",
       "  Has Online delivery Is delivering now Switch to order menu Price range  \\\n",
       "0                  No                No                   No           3   \n",
       "1                  No                No                   No           3   \n",
       "2                  No                No                   No           4   \n",
       "3                  No                No                   No           4   \n",
       "4                  No                No                   No           4   \n",
       "5                  No                No                   No           3   \n",
       "\n",
       "   Aggregate rating  Rating color Rating text Votes  \n",
       "0               4.8    Dark Green   Excellent   314  \n",
       "1               4.5    Dark Green   Excellent   591  \n",
       "2               4.4         Green   Very Good   270  \n",
       "3               4.9    Dark Green   Excellent   365  \n",
       "4               4.8    Dark Green   Excellent   229  \n",
       "5               4.4         Green   Very Good   336  \n",
       "\n",
       "[6 rows x 21 columns]"
      ]
     },
     "execution_count": 2,
     "metadata": {},
     "output_type": "execute_result"
    }
   ],
   "source": [
    "#Importing the data \n",
    "resturant_data = pd.read_csv(\"Dataset .csv\")\n",
    "resturant_data.head(6)"
   ]
  },
  {
   "cell_type": "code",
   "execution_count": 3,
   "id": "41ee8309",
   "metadata": {},
   "outputs": [
    {
     "name": "stdout",
     "output_type": "stream",
     "text": [
      "Shape of the data: (9551, 21)\n",
      "Shape of the data: (9551, 21)\n"
     ]
    }
   ],
   "source": [
    "# Dropping duplicate data\n",
    "print(\"Shape of the data:\",resturant_data.shape)\n",
    "resturant_data.drop_duplicates(inplace=True)\n",
    "print(\"Shape of the data:\",resturant_data.shape)"
   ]
  },
  {
   "cell_type": "code",
   "execution_count": 4,
   "id": "6c46782f",
   "metadata": {},
   "outputs": [
    {
     "name": "stdout",
     "output_type": "stream",
     "text": [
      "<class 'pandas.core.frame.DataFrame'>\n",
      "Int64Index: 9551 entries, 0 to 9550\n",
      "Data columns (total 21 columns):\n",
      " #   Column                Non-Null Count  Dtype  \n",
      "---  ------                --------------  -----  \n",
      " 0   Restaurant ID         9551 non-null   int64  \n",
      " 1   Restaurant Name       9551 non-null   object \n",
      " 2   Country Code          9551 non-null   int64  \n",
      " 3   City                  9551 non-null   object \n",
      " 4   Address               9551 non-null   object \n",
      " 5   Locality              9551 non-null   object \n",
      " 6   Locality Verbose      9551 non-null   object \n",
      " 7   Longitude             9551 non-null   float64\n",
      " 8   Latitude              9551 non-null   float64\n",
      " 9   Cuisines              9542 non-null   object \n",
      " 10  Average Cost for two  9551 non-null   int64  \n",
      " 11  Currency              9551 non-null   object \n",
      " 12  Has Table booking     9551 non-null   object \n",
      " 13  Has Online delivery   9551 non-null   object \n",
      " 14  Is delivering now     9551 non-null   object \n",
      " 15  Switch to order menu  9551 non-null   object \n",
      " 16  Price range           9551 non-null   int64  \n",
      " 17  Aggregate rating      9551 non-null   float64\n",
      " 18  Rating color          9551 non-null   object \n",
      " 19  Rating text           9551 non-null   object \n",
      " 20  Votes                 9551 non-null   int64  \n",
      "dtypes: float64(3), int64(5), object(13)\n",
      "memory usage: 1.6+ MB\n"
     ]
    }
   ],
   "source": [
    "# Data Sanity Check\n",
    "resturant_data.info()"
   ]
  },
  {
   "cell_type": "code",
   "execution_count": 5,
   "id": "6a08cffe",
   "metadata": {},
   "outputs": [
    {
     "data": {
      "text/plain": [
       "Restaurant ID           0.00\n",
       "Restaurant Name         0.00\n",
       "Country Code            0.00\n",
       "City                    0.00\n",
       "Address                 0.00\n",
       "Locality                0.00\n",
       "Locality Verbose        0.00\n",
       "Longitude               0.00\n",
       "Latitude                0.00\n",
       "Cuisines                0.09\n",
       "Average Cost for two    0.00\n",
       "Currency                0.00\n",
       "Has Table booking       0.00\n",
       "Has Online delivery     0.00\n",
       "Is delivering now       0.00\n",
       "Switch to order menu    0.00\n",
       "Price range             0.00\n",
       "Aggregate rating        0.00\n",
       "Rating color            0.00\n",
       "Rating text             0.00\n",
       "Votes                   0.00\n",
       "dtype: float64"
      ]
     },
     "execution_count": 5,
     "metadata": {},
     "output_type": "execute_result"
    }
   ],
   "source": [
    "# Looking for missing values percentage.\n",
    "(resturant_data.isnull().mean()*100).round(2)"
   ]
  },
  {
   "cell_type": "markdown",
   "id": "7e5d359c",
   "metadata": {},
   "source": [
    "## Conclusion:\n",
    "* **We only have 9 data missing in cuisines which is 0.09 percent which is very low.So, we can delete them.**"
   ]
  },
  {
   "cell_type": "code",
   "execution_count": 6,
   "id": "0cbc37e7",
   "metadata": {},
   "outputs": [],
   "source": [
    "# Dropping Null columns\n",
    "resturant_data.dropna(inplace=True)"
   ]
  },
  {
   "cell_type": "code",
   "execution_count": 7,
   "id": "e8de68eb",
   "metadata": {},
   "outputs": [
    {
     "data": {
      "text/plain": [
       "Restaurant ID           0.0\n",
       "Restaurant Name         0.0\n",
       "Country Code            0.0\n",
       "City                    0.0\n",
       "Address                 0.0\n",
       "Locality                0.0\n",
       "Locality Verbose        0.0\n",
       "Longitude               0.0\n",
       "Latitude                0.0\n",
       "Cuisines                0.0\n",
       "Average Cost for two    0.0\n",
       "Currency                0.0\n",
       "Has Table booking       0.0\n",
       "Has Online delivery     0.0\n",
       "Is delivering now       0.0\n",
       "Switch to order menu    0.0\n",
       "Price range             0.0\n",
       "Aggregate rating        0.0\n",
       "Rating color            0.0\n",
       "Rating text             0.0\n",
       "Votes                   0.0\n",
       "dtype: float64"
      ]
     },
     "execution_count": 7,
     "metadata": {},
     "output_type": "execute_result"
    }
   ],
   "source": [
    "# Looking for missing values again\n",
    "(resturant_data.isnull().mean()*100).round(2)"
   ]
  },
  {
   "cell_type": "markdown",
   "id": "b0548c99",
   "metadata": {},
   "source": [
    "# Level 1"
   ]
  },
  {
   "cell_type": "markdown",
   "id": "2c96b767",
   "metadata": {},
   "source": [
    "# Task 1 :Top Cuisines\n",
    "\n",
    "* **Determine the top three most common cuisines in the dataset.**\n"
   ]
  },
  {
   "cell_type": "code",
   "execution_count": 8,
   "id": "bb668ad6",
   "metadata": {},
   "outputs": [
    {
     "data": {
      "text/plain": [
       "0          French, Japanese, Desserts\n",
       "1                            Japanese\n",
       "2    Seafood, Asian, Filipino, Indian\n",
       "3                     Japanese, Sushi\n",
       "4                    Japanese, Korean\n",
       "Name: Cuisines, dtype: object"
      ]
     },
     "execution_count": 8,
     "metadata": {},
     "output_type": "execute_result"
    }
   ],
   "source": [
    "# Determine the top three most common cuisines in the dataset.\n",
    "# Lets See the cuisines column first.\n",
    "resturant_data['Cuisines'].head()"
   ]
  },
  {
   "cell_type": "code",
   "execution_count": 9,
   "id": "489fd004",
   "metadata": {},
   "outputs": [
    {
     "data": {
      "text/plain": [
       "North Indian    2992\n",
       " Chinese        1880\n",
       " Fast Food      1314\n",
       "dtype: int64"
      ]
     },
     "execution_count": 9,
     "metadata": {},
     "output_type": "execute_result"
    }
   ],
   "source": [
    "# We have cuisines which has comma and now we have to separate this.\n",
    "\n",
    "resturant_data_cuisines_split = resturant_data[\"Cuisines\"].str.split(',',expand=True).stack().reset_index(drop=True)\n",
    "resturant_data_cuisines_split_value_count = resturant_data_cuisines_split.value_counts()\n",
    "resturant_data_cuisines_split_value_count_final = resturant_data_cuisines_split_value_count.sort_values(ascending=False).head(3)\n",
    "resturant_data_cuisines_split_value_count_final"
   ]
  },
  {
   "cell_type": "code",
   "execution_count": 38,
   "id": "0a3207ff",
   "metadata": {},
   "outputs": [
    {
     "name": "stdout",
     "output_type": "stream",
     "text": [
      "          index  count\n",
      "0  North Indian   2992\n",
      "1       Chinese   1880\n",
      "2     Fast Food   1314\n"
     ]
    },
    {
     "data": {
      "image/png": "[encoded data removed]",
      "text/plain": [
       "<Figure size 1000x600 with 1 Axes>"
      ]
     },
     "metadata": {},
     "output_type": "display_data"
    }
   ],
   "source": [
    "# Lets Plot the data to see it visually.\n",
    "top_3_cuisines = resturant_data_cuisines_split_value_count_final.reset_index(name='count')\n",
    "top_3_cuisines\n",
    "\n",
    "# plotting the data using bar graph.\n",
    "print(top_3_cuisines)\n",
    "plt.figure(figsize=(10,6))\n",
    "sns.barplot(top_3_cuisines,x='index',y='count')\n",
    "plt.xlabel(\"Cuisines\")\n",
    "plt.title(\"Top 3 cuisines\")\n",
    "plt.xticks(rotation=45)\n",
    "plt.show()"
   ]
  },
  {
   "cell_type": "markdown",
   "id": "f8136ba4",
   "metadata": {},
   "source": [
    "**The image is a bar chart titled \"The top three most common cuisines.\"** It displays the count of three different cuisines: North Indian, Chinese, and Fast Food. The y-axis represents the count, while the x-axis lists the cuisines. The counts for each cuisine are labeled on top of the bars:\n",
    "\n",
    "- **North Indian:** 2.992k\n",
    "- **Chinese:** 1.880k\n",
    "- **Fast Food:** 1.314k\n",
    "\n",
    "The chart clearly shows that North Indian cuisine is the most common, followed by Chinese and Fast Food.\n"
   ]
  },
  {
   "cell_type": "markdown",
   "id": "e3a506d1",
   "metadata": {},
   "source": [
    "# Task 1 :Top Cuisines\n",
    "\n",
    "* **Calculate the percentage of restaurants that serve each of the top cuisines.**\n"
   ]
  },
  {
   "cell_type": "code",
   "execution_count": 11,
   "id": "76c655a0",
   "metadata": {},
   "outputs": [
    {
     "name": "stdout",
     "output_type": "stream",
     "text": [
      "          index     0\n",
      "0  North Indian  2992\n",
      "1       Chinese  1880\n",
      "2     Fast Food  1314\n",
      "\n",
      " North Indian    31.36\n",
      " Chinese        19.70\n",
      " Fast Food      13.77\n",
      "dtype: float64\n"
     ]
    }
   ],
   "source": [
    "# Calculate the percentage of restaurants that serve each of the top cuisines.\n",
    "print(top_3_cuisines)\n",
    "# Calculate the percentage of # Calculate the percentage of restaurants that serve each cuisine that serve each cuisine\n",
    "Total_Restaurants = len(resturant_data)\n",
    "Percentage_of_cuisines = ((resturant_data_cuisines_split_value_count/Total_Restaurants)*100).round(2).head(3)\n",
    "print(\"\\n\",Percentage_of_cuisines)"
   ]
  },
  {
   "cell_type": "code",
   "execution_count": 37,
   "id": "d156bbb6",
   "metadata": {},
   "outputs": [
    {
     "name": "stdout",
     "output_type": "stream",
     "text": [
      "          index  Percentage\n",
      "0  North Indian       31.36\n",
      "1       Chinese       19.70\n",
      "2     Fast Food       13.77\n"
     ]
    },
    {
     "data": {
      "image/png": "[encoded data removed]",
      "text/plain": [
       "<Figure size 1000x600 with 1 Axes>"
      ]
     },
     "metadata": {},
     "output_type": "display_data"
    }
   ],
   "source": [
    "Percentage_of_cuisines_bar = Percentage_of_cuisines.reset_index(name ='Percentage')\n",
    "Percentage_of_cuisines_bar\n",
    "\n",
    "# plotting the data using bar graph.\n",
    "print(Percentage_of_cuisines_bar)\n",
    "plt.figure(figsize=(10,6))\n",
    "sns.barplot(Percentage_of_cuisines_bar,x='index',y='Percentage')\n",
    "plt.xlabel(\"Cuisines\")\n",
    "plt.title(\"The percentage of restaurants that serve each of the top cuisines.\")\n",
    "plt.xticks(rotation=45)\n",
    "plt.show()"
   ]
  },
  {
   "cell_type": "markdown",
   "id": "d68d893f",
   "metadata": {},
   "source": [
    "**The image is a bar chart titled \"The percentage of restaurants that serve each of the top cuisines.\"** It displays the count of three different cuisines: North Indian, Chinese, and Fast Food. The y-axis represents the Percentage, while the x-axis lists the cuisines. The counts for each cuisine are labeled on top of the bars:\n",
    "\n",
    "- **North Indian:** 31.36%\n",
    "- **Chinese:** 19.70%\n",
    "- **Fast Food:** 13.77%\n",
    "\n",
    "The chart clearly shows that North Indian cuisine is the most common, followed by Chinese and Fast Food.\n"
   ]
  },
  {
   "cell_type": "markdown",
   "id": "84c4b93b",
   "metadata": {},
   "source": [
    "# Task 2 : City Analysis\n",
    "\n",
    "* **Identify the city with the highest number of restaurants in the dataset.**"
   ]
  },
  {
   "cell_type": "code",
   "execution_count": 13,
   "id": "b8bd9ac5",
   "metadata": {},
   "outputs": [
    {
     "data": {
      "text/plain": [
       "0         Makati City\n",
       "1         Makati City\n",
       "2    Mandaluyong City\n",
       "3    Mandaluyong City\n",
       "4    Mandaluyong City\n",
       "Name: City, dtype: object"
      ]
     },
     "execution_count": 13,
     "metadata": {},
     "output_type": "execute_result"
    }
   ],
   "source": [
    "#Identify the city with the highest number of restaurants in the dataset\n",
    "# Lets See the cuisines column first.\n",
    "resturant_data[\"City\"].head()"
   ]
  },
  {
   "cell_type": "code",
   "execution_count": 14,
   "id": "d3678285",
   "metadata": {},
   "outputs": [
    {
     "data": {
      "text/plain": [
       "New Delhi    5473\n",
       "Gurgaon      1118\n",
       "Noida        1080\n",
       "Name: City, dtype: int64"
      ]
     },
     "execution_count": 14,
     "metadata": {},
     "output_type": "execute_result"
    }
   ],
   "source": [
    "# Lets see the top 3 Cities\n",
    "resturant_data_cuisines_city_value_count = resturant_data[\"City\"].value_counts()\n",
    "resturant_data_cuisines_city_value_count.head(3)"
   ]
  },
  {
   "cell_type": "code",
   "execution_count": 42,
   "id": "1413ef56",
   "metadata": {},
   "outputs": [
    {
     "name": "stdout",
     "output_type": "stream",
     "text": [
      "       index  count\n",
      "0  New Delhi   5473\n",
      "1    Gurgaon   1118\n",
      "2      Noida   1080\n"
     ]
    },
    {
     "data": {
      "image/png": "[encoded data removed]",
      "text/plain": [
       "<Figure size 1000x600 with 1 Axes>"
      ]
     },
     "metadata": {},
     "output_type": "display_data"
    }
   ],
   "source": [
    "# Lets plot this data\n",
    "resturant_data_cuisines_city_value_count_bar = resturant_data_cuisines_city_value_count.head(3).reset_index(name='count')\n",
    "resturant_data_cuisines_city_value_count_bar\n",
    "# plotting the data using bar graph.\n",
    "print(resturant_data_cuisines_city_value_count_bar)\n",
    "plt.figure(figsize=(10,6))\n",
    "sns.barplot(resturant_data_cuisines_city_value_count_bar,x='index',y='count')\n",
    "plt.xlabel(\"Cuisines\")\n",
    "plt.title(\"The city with the highest number of restaurants\")\n",
    "plt.xticks(rotation=45)\n",
    "plt.show()"
   ]
  },
  {
   "cell_type": "markdown",
   "id": "1b806fdf",
   "metadata": {},
   "source": [
    "## Analysis\n",
    "\n",
    "* **New Delhi boasts the tallest bar, indicating it has the highest number of restaurants, with a count of 5.473k.**"
   ]
  },
  {
   "cell_type": "markdown",
   "id": "d19d7a17",
   "metadata": {},
   "source": [
    "# Task 2 : City Analysis\n",
    "\n",
    "* **Calculate the average rating for restaurants in each city.**"
   ]
  },
  {
   "cell_type": "code",
   "execution_count": 16,
   "id": "be973fcf",
   "metadata": {},
   "outputs": [
    {
     "name": "stdout",
     "output_type": "stream",
     "text": [
      "              City  Average Rating\n",
      "0  Wellington City        4.250000\n",
      "1          Lucknow        4.195238\n",
      "2         Columbus        4.030000\n",
      "3         Randburg        4.300000\n",
      "4    Victor Harbor        3.600000\n",
      "5         Savannah        4.168421\n",
      "6          Dubuque        3.535000\n",
      "7            Dubai        4.370000\n",
      "8        Allahabad        3.395000\n",
      "9        Abu Dhabi        4.300000\n"
     ]
    }
   ],
   "source": [
    "# Group by city and calculate the average rating for each city \n",
    "average_ratings = resturant_data.groupby('City')['Aggregate rating'].mean().reset_index() \n",
    "# Rename the columns for clarity \n",
    "average_ratings.columns = ['City', 'Average Rating'] \n",
    "# We are displaying the sample of the average ratings\n",
    "print(average_ratings.sample(10).reset_index(drop=True))"
   ]
  },
  {
   "cell_type": "markdown",
   "id": "fe4ece34",
   "metadata": {},
   "source": [
    "# Task 2 : City Analysis\n",
    "\n",
    "* **Determine the city with the highest average rating.**"
   ]
  },
  {
   "cell_type": "code",
   "execution_count": 17,
   "id": "7d7b1e71",
   "metadata": {},
   "outputs": [
    {
     "data": {
      "text/html": [
       "<div>\n",
       "<style scoped>\n",
       "    .dataframe tbody tr th:only-of-type {\n",
       "        vertical-align: middle;\n",
       "    }\n",
       "\n",
       "    .dataframe tbody tr th {\n",
       "        vertical-align: top;\n",
       "    }\n",
       "\n",
       "    .dataframe thead th {\n",
       "        text-align: right;\n",
       "    }\n",
       "</style>\n",
       "<table border=\"1\" class=\"dataframe\">\n",
       "  <thead>\n",
       "    <tr style=\"text-align: right;\">\n",
       "      <th></th>\n",
       "      <th>City</th>\n",
       "      <th>Average Rating</th>\n",
       "    </tr>\n",
       "  </thead>\n",
       "  <tbody>\n",
       "    <tr>\n",
       "      <th>0</th>\n",
       "      <td>Inner City</td>\n",
       "      <td>4.9</td>\n",
       "    </tr>\n",
       "  </tbody>\n",
       "</table>\n",
       "</div>"
      ],
      "text/plain": [
       "         City  Average Rating\n",
       "0  Inner City             4.9"
      ]
     },
     "execution_count": 17,
     "metadata": {},
     "output_type": "execute_result"
    }
   ],
   "source": [
    "# Determine the city with the highest average rating.\n",
    "average_ratings.sort_values(\"Average Rating\",ascending=False).reset_index(drop=True).head(1)"
   ]
  },
  {
   "cell_type": "markdown",
   "id": "1b9b52e0",
   "metadata": {},
   "source": [
    "* **We can see that inner city with 4.9**"
   ]
  },
  {
   "cell_type": "markdown",
   "id": "0c034c52",
   "metadata": {},
   "source": [
    "# Task 3 : Price Range Distribution\n",
    "\n",
    "* **Create a histogram or bar chart to visualize the distribution of price ranges among the restaurants.**"
   ]
  },
  {
   "cell_type": "code",
   "execution_count": 18,
   "id": "3c319f50",
   "metadata": {},
   "outputs": [
    {
     "data": {
      "image/png": "[encoded data removed]",
      "text/plain": [
       "<Figure size 1000x600 with 1 Axes>"
      ]
     },
     "metadata": {},
     "output_type": "display_data"
    }
   ],
   "source": [
    "# Create a histogram or bar chart to visualize the distribution of price ranges among the restaurants.\n",
    "\n",
    "plt.figure(figsize=(10, 6)) \n",
    "resturant_data['Price range'].value_counts().sort_index().plot(kind='bar', color='skyblue') \n",
    "plt.title('Distribution of Price Ranges Among Restaurants') \n",
    "plt.xlabel('Price Range') \n",
    "plt.ylabel('Number of Restaurants') \n",
    "plt.xticks(rotation=45)\n",
    "plt.show()"
   ]
  },
  {
   "cell_type": "markdown",
   "id": "d138891b",
   "metadata": {},
   "source": [
    "# Task 3 : Price Range Distribution\n",
    "\n",
    "* **Calculate the percentage of restaurants in each price range category.**"
   ]
  },
  {
   "cell_type": "code",
   "execution_count": 19,
   "id": "e2f6d737",
   "metadata": {},
   "outputs": [
    {
     "name": "stdout",
     "output_type": "stream",
     "text": [
      "The percentage of restaurants in each price range category.\n",
      "1    46.51\n",
      "2    32.62\n",
      "3    14.72\n",
      "4     6.14\n",
      "Name: Price range, dtype: float64\n"
     ]
    }
   ],
   "source": [
    "# Calculate the percentage of restaurants in each price range category.\n",
    "# Count the number of restaurants in each price range \n",
    "price_range_counts = resturant_data['Price range'].value_counts() \n",
    "# Calculate the percentage of restaurants in each price range \n",
    "price_range_percentage = ((price_range_counts / len(resturant_data)) * 100).round(2) \n",
    "# Display the percentage \n",
    "print(\"The percentage of restaurants in each price range category.\")\n",
    "print(price_range_percentage)"
   ]
  },
  {
   "cell_type": "markdown",
   "id": "937e4e4f",
   "metadata": {},
   "source": [
    "# Task 4 : Online Delivery\n",
    "\n",
    "* **Determine the percentage of restaurants that offer online delivery.**"
   ]
  },
  {
   "cell_type": "code",
   "execution_count": 20,
   "id": "684d0b91",
   "metadata": {},
   "outputs": [
    {
     "name": "stdout",
     "output_type": "stream",
     "text": [
      "The percentage of restaurants that offer online delivery is : 25.69 %\n"
     ]
    }
   ],
   "source": [
    "# Determine the percentage of restaurants that offer online delivery.\n",
    "# Calculate the number of restaurants that offer online delivery \n",
    "online_delivery_count = (resturant_data['Has Online delivery'] == 'Yes').sum()\n",
    "# Calculate the percentage of restaurants that offer online delivery \n",
    "online_delivery_percentage = (online_delivery_count / len(resturant_data)) * 100\n",
    "print(f\"The percentage of restaurants that offer online delivery is :\",online_delivery_percentage.round(2),\"%\")                         "
   ]
  },
  {
   "cell_type": "markdown",
   "id": "b0c6d59f",
   "metadata": {},
   "source": [
    "# Task 4 : Online Delivery\n",
    "\n",
    "* **Compare the average ratings of restaurants with and without online delivery.**"
   ]
  },
  {
   "cell_type": "code",
   "execution_count": 21,
   "id": "01bf0b27",
   "metadata": {},
   "outputs": [
    {
     "name": "stdout",
     "output_type": "stream",
     "text": [
      "Average rating for restaurants with online delivery: 3.25\n",
      "Average rating for restaurants without online delivery: 2.46\n"
     ]
    }
   ],
   "source": [
    "# Separate the data into two groups \n",
    "online_delivery = resturant_data[resturant_data['Has Online delivery'] == 'Yes'] \n",
    "no_online_delivery = resturant_data[resturant_data['Has Online delivery'] == 'No'] \n",
    "# Calculate the average rating for each group \n",
    "average_rating_online_delivery = online_delivery['Aggregate rating'].mean() \n",
    "average_rating_no_online_delivery = no_online_delivery['Aggregate rating'].mean() \n",
    "print(\"Average rating for restaurants with online delivery:\",average_rating_online_delivery.round(2)) \n",
    "print(\"Average rating for restaurants without online delivery:\",average_rating_no_online_delivery.round(2))"
   ]
  }
 ],
 "metadata": {
  "kernelspec": {
   "display_name": "Python 3 (ipykernel)",
   "language": "python",
   "name": "python3"
  },
  "language_info": {
   "codemirror_mode": {
    "name": "ipython",
    "version": 3
   },
   "file_extension": ".py",
   "mimetype": "text/x-python",
   "name": "python",
   "nbconvert_exporter": "python",
   "pygments_lexer": "ipython3",
   "version": "3.11.4"
  }
 },
 "nbformat": 4,
 "nbformat_minor": 5
}
